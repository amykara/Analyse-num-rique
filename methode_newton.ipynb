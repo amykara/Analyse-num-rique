{
 "cells": [
  {
   "cell_type": "code",
   "execution_count": 28,
   "id": "cf5dbc32",
   "metadata": {},
   "outputs": [],
   "source": [
    "import sympy as sp\n",
    "import numpy as np\n",
    "\n",
    "\n",
    "\n",
    "x = sp.symbols('x') #declaration de la variable symbolique x\n",
    "f_sym = 2 - x**2 #definition de la fonction symbolique\n",
    "f_prime = sp.diff(f_sym, x)\n",
    "\n",
    "\n",
    "def Newton(x0 = 1.0, epsilon=1e-6, it_max=100):\n",
    "  \n",
    "    nb = 0\n",
    "    r = float('inf')\n",
    "    x_n = float(x0)\n",
    "    \n",
    "    while r > epsilon and nb < it_max:\n",
    "        f_val = float(f_sym.subs(x, x_n))\n",
    "        f_prime_val = float(f_prime.subs(x, x_n))\n",
    "\n",
    "        if abs(f_prime_val) < np.sqrt(epsilon):\n",
    "\n",
    "            print(\"Dérivée trop proche de 0.\")\n",
    "            break\n",
    "\n",
    "        x_next = x_n - f_val / f_prime_val\n",
    "        r = abs(x_next - x_n)\n",
    "        x_n = x_next\n",
    "        nb += 1\n",
    "    \n",
    "    if nb < it_max:\n",
    "        print(f\"Solution trouvée après {nb} itérations.\")\n",
    "        print(f\"x ≈ {x_n:.8f}\")\n",
    "\n",
    "    else:\n",
    "        print(f\"Pas de convergence après {it_max} itérations.\")\n",
    "    \n",
    "    return x\n"
   ]
  },
  {
   "cell_type": "code",
   "execution_count": 29,
   "id": "8e499c3b",
   "metadata": {},
   "outputs": [
    {
     "name": "stdout",
     "output_type": "stream",
     "text": [
      "Solution trouvée après 5 itérations.\n",
      "x ≈ 1.41421356\n"
     ]
    },
    {
     "data": {
      "text/latex": [
       "$\\displaystyle x$"
      ],
      "text/plain": [
       "x"
      ]
     },
     "execution_count": 29,
     "metadata": {},
     "output_type": "execute_result"
    }
   ],
   "source": [
    "Newton(x0 = 1.0)"
   ]
  },
  {
   "cell_type": "code",
   "execution_count": null,
   "id": "d8e19121",
   "metadata": {},
   "outputs": [],
   "source": []
  },
  {
   "cell_type": "code",
   "execution_count": null,
   "id": "9839b0ec",
   "metadata": {},
   "outputs": [],
   "source": []
  },
  {
   "cell_type": "code",
   "execution_count": null,
   "id": "2eafa95c",
   "metadata": {},
   "outputs": [],
   "source": []
  },
  {
   "cell_type": "code",
   "execution_count": null,
   "id": "6d2e7f5a",
   "metadata": {},
   "outputs": [],
   "source": []
  },
  {
   "cell_type": "code",
   "execution_count": null,
   "id": "e5756c15",
   "metadata": {},
   "outputs": [],
   "source": []
  }
 ],
 "metadata": {
  "kernelspec": {
   "display_name": "base",
   "language": "python",
   "name": "python3"
  },
  "language_info": {
   "codemirror_mode": {
    "name": "ipython",
    "version": 3
   },
   "file_extension": ".py",
   "mimetype": "text/x-python",
   "name": "python",
   "nbconvert_exporter": "python",
   "pygments_lexer": "ipython3",
   "version": "3.8.5"
  }
 },
 "nbformat": 4,
 "nbformat_minor": 5
}
