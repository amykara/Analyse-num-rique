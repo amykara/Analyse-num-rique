{
 "cells": [
  {
   "cell_type": "code",
   "execution_count": 8,
   "id": "cf5dbc32",
   "metadata": {},
   "outputs": [],
   "source": [
    "import numpy as np"
   ]
  },
  {
   "cell_type": "code",
   "execution_count": 9,
   "id": "f269c200",
   "metadata": {},
   "outputs": [],
   "source": [
    "def jacobi(A, b, x):\n",
    "    n = len(A)\n",
    "    x_new = np.zeros_like(x)\n",
    "\n",
    "    for i in range(n):\n",
    "\n",
    "        somme = np.dot(A[i,:i], x[:i]) + np.dot(A[i, i+1:], x[i+1:])\n",
    "        x_new[i] = (b[i]- somme) / A[i, i]\n",
    "    return x_new"
   ]
  },
  {
   "cell_type": "code",
   "execution_count": 10,
   "id": "2b89da90",
   "metadata": {},
   "outputs": [],
   "source": [
    "def gauss_seidel_relaxation(A, b, x, omega=1.0):\n",
    "   \n",
    "    n = len(A)\n",
    "    x_new = x.copy()  \n",
    "    \n",
    "    for i in range(n):\n",
    "        somme1 = np.dot(A[i, :i], x_new[:i]) \n",
    "        somme2 = np.dot(A[i, i+1:], x[i+1:])  \n",
    "        x_new[i] = (1 - omega) * x[i] + omega * (b[i] - somme1 - somme2) / A[i, i]\n",
    "    \n",
    "    return x_new\n"
   ]
  },
  {
   "cell_type": "code",
   "execution_count": 11,
   "id": "7a67b351",
   "metadata": {},
   "outputs": [],
   "source": [
    "def iterative_solver(A, b, x0, epsilon=1e-6, it_max=100, method='jacobi', omega=1.0):\n",
    "  \n",
    "    x = x0.copy()\n",
    "    nb = 0\n",
    "    r = np.linalg.norm(b - np.dot(A, x))\n",
    "    \n",
    "    while r > epsilon and nb < it_max:\n",
    "        if method == 'jacobi':\n",
    "            x_new = jacobi(A, b, x)\n",
    "        elif method == 'gs_sor':\n",
    "            x_new = gauss_seidel_relaxation(A, b, x, omega)\n",
    "        else:\n",
    "            raise ValueError(\"Méthode inconnue\")\n",
    "        \n",
    "        x = x_new\n",
    "        r = np.linalg.norm(b - np.dot(A, x))\n",
    "        nb += 1\n",
    "    \n",
    "    if r < epsilon:\n",
    "        print(f\"Solution trouvée après {nb} itérations.\")\n",
    "        print(x)\n",
    "    else:\n",
    "        print(f\"Pas de convergence après {it_max} itérations.\")\n",
    "    \n",
    "    return x\n"
   ]
  },
  {
   "cell_type": "code",
   "execution_count": 12,
   "id": "e8aabdaa",
   "metadata": {},
   "outputs": [
    {
     "name": "stdout",
     "output_type": "stream",
     "text": [
      "Solution trouvée après 20 itérations.\n",
      "[4.99999989 4.99999982 4.9999998  4.99999984]\n",
      "Solution trouvée après 14 itérations.\n",
      "[4.99999989 4.99999998 5.00000001 5.        ]\n"
     ]
    }
   ],
   "source": [
    "A = np.array([[4, -1, 0, 0],\n",
    "              [-1, 4, -1, 0],\n",
    "              [0, -1, 4, -1],\n",
    "              [0, 0, -1, 3]])\n",
    "\n",
    "b = np.array([15, 10, 10, 10])\n",
    "x0 = np.zeros(len(b))\n",
    "\n",
    "x_jacobi = iterative_solver(A, b, x0, method='jacobi')\n",
    "\n",
    "x_gs = iterative_solver(A, b, x0, method='gs_sor', omega=1.25)\n"
   ]
  },
  {
   "cell_type": "code",
   "execution_count": 13,
   "id": "8e499c3b",
   "metadata": {},
   "outputs": [
    {
     "name": "stdout",
     "output_type": "stream",
     "text": [
      "Pas de convergence après 100 itérations.\n",
      "Pas de convergence après 100 itérations.\n",
      "Pas de convergence après 100 itérations.\n"
     ]
    }
   ],
   "source": [
    "A = np.array([[2, 3],\n",
    "              [3, 2]])\n",
    "\n",
    "b = np.array([5, 5])\n",
    "x0 = np.zeros(len(b))\n",
    "x_jacobi = iterative_solver(A, b, x0, method='jacobi')\n",
    "x_gs = iterative_solver(A, b, x0, method='gs_sor', omega=1.0)\n",
    "x_gs = iterative_solver(A, b, x0, method='gs_sor', omega=1.25)"
   ]
  }
 ],
 "metadata": {
  "kernelspec": {
   "display_name": "base",
   "language": "python",
   "name": "python3"
  },
  "language_info": {
   "codemirror_mode": {
    "name": "ipython",
    "version": 3
   },
   "file_extension": ".py",
   "mimetype": "text/x-python",
   "name": "python",
   "nbconvert_exporter": "python",
   "pygments_lexer": "ipython3",
   "version": "3.8.5"
  }
 },
 "nbformat": 4,
 "nbformat_minor": 5
}
