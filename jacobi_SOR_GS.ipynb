{
 "cells": [
  {
   "cell_type": "code",
   "execution_count": 1,
   "id": "cf5dbc32",
   "metadata": {},
   "outputs": [],
   "source": [
    "import numpy as np"
   ]
  },
  {
   "cell_type": "code",
   "execution_count": 2,
   "id": "f269c200",
   "metadata": {},
   "outputs": [],
   "source": [
    "def jacobi(A, b, x):\n",
    "    n = len(A)\n",
    "    x_new = np.zeros_like(x)\n",
    "\n",
    "    for i in range(n):\n",
    "\n",
    "        somme = np.dot(A[i,:i], x[:i]) + np.dot(A[i, i+1:], x[i+1:])\n",
    "        x_new[i] = (b[i]- somme) / A[i, i]\n",
    "    return x_new"
   ]
  },
  {
   "cell_type": "code",
   "execution_count": 3,
   "id": "2b89da90",
   "metadata": {},
   "outputs": [],
   "source": [
    "def gauss_seidel_relaxation(A, b, x, omega=1.0):\n",
    "   \n",
    "    n = len(A)\n",
    "    x_new = x.copy()  \n",
    "    \n",
    "    for i in range(n):\n",
    "        somme1 = np.dot(A[i, :i], x_new[:i]) \n",
    "        somme2 = np.dot(A[i, i+1:], x[i+1:])  \n",
    "        x_new[i] = (1 - omega) * x[i] + omega * (b[i] - somme1 - somme2) / A[i, i]\n",
    "    \n",
    "    return x_new\n"
   ]
  },
  {
   "cell_type": "code",
   "execution_count": 4,
   "id": "7a67b351",
   "metadata": {},
   "outputs": [],
   "source": [
    "def iterative_solver(A, b, x0, epsilon=1e-6, it_max=100, method='jacobi', omega=1.0):\n",
    "  \n",
    "    x = x0.copy()\n",
    "    nb = 0\n",
    "    r = np.linalg.norm(b - np.dot(A, x))\n",
    "    \n",
    "    while r > epsilon and nb < it_max:\n",
    "        if method == 'jacobi':\n",
    "            x_new = jacobi(A, b, x)\n",
    "        elif method == 'gs_sor':\n",
    "            x_new = gauss_seidel_relaxation(A, b, x, omega)\n",
    "        else:\n",
    "            raise ValueError(\"Méthode inconnue\")\n",
    "        \n",
    "        x = x_new\n",
    "        r = np.linalg.norm(b - np.dot(A, x))\n",
    "        nb += 1\n",
    "    \n",
    "    if r < epsilon:\n",
    "        print(f\"Solution trouvée après {nb} itérations.\")\n",
    "        print(x)\n",
    "    else:\n",
    "        print(f\"Pas de convergence après {it_max} itérations.\")\n",
    "    \n",
    "    return x\n"
   ]
  },
  {
   "cell_type": "code",
   "execution_count": 5,
   "id": "e8aabdaa",
   "metadata": {},
   "outputs": [
    {
     "name": "stdout",
     "output_type": "stream",
     "text": [
      "Solution trouvée après 26 itérations.\n",
      "[2.69736833 4.07894741 3.61842105 0.3947368  2.07236838]\n",
      "Solution trouvée après 17 itérations.\n",
      "[2.69736824 4.07894732 3.61842103 0.3947368  2.07236843]\n",
      "Solution trouvée après 10 itérations.\n",
      "[2.69736846 4.0789474  3.61842106 0.39473684 2.07236842]\n"
     ]
    }
   ],
   "source": [
    "A = np.array([[4, -1, 0, 0, 4],\n",
    "              [-1, 4, -1, 0, 0],\n",
    "              [0, -1, 4, -1, 0],\n",
    "              [0, -2, 3, 8, 2],\n",
    "              [0, 0, -1, 3, 6],])\n",
    "\n",
    "b = np.array([15, 10, 10, 10, 10])\n",
    "x0 = np.zeros(len(b))\n",
    "\n",
    "x_jacobi = iterative_solver(A, b, x0, method='jacobi')\n",
    "\n",
    "x_gs = iterative_solver(A, b, x0, method='gs_sor', omega=1.25)\n",
    "x_gsS = iterative_solver(A, b, x0, method='gs_sor', omega=1.0)\n",
    "\n"
   ]
  },
  {
   "cell_type": "code",
   "execution_count": 6,
   "id": "8e499c3b",
   "metadata": {},
   "outputs": [
    {
     "name": "stdout",
     "output_type": "stream",
     "text": [
      "Pas de convergence après 100 itérations.\n",
      "Pas de convergence après 100 itérations.\n",
      "Pas de convergence après 100 itérations.\n"
     ]
    }
   ],
   "source": [
    "A = np.array([[2, 3],\n",
    "              [3, 2]])\n",
    "\n",
    "b = np.array([5, 5])\n",
    "x0 = np.zeros(len(b))\n",
    "x_jacobi = iterative_solver(A, b, x0, method='jacobi')\n",
    "x_gs = iterative_solver(A, b, x0, method='gs_sor', omega=1.0)\n",
    "x_gs = iterative_solver(A, b, x0, method='gs_sor', omega=1.25)"
   ]
  },
  {
   "cell_type": "code",
   "execution_count": null,
   "id": "d8e19121",
   "metadata": {},
   "outputs": [],
   "source": []
  },
  {
   "cell_type": "code",
   "execution_count": null,
   "id": "9839b0ec",
   "metadata": {},
   "outputs": [],
   "source": []
  },
  {
   "cell_type": "code",
   "execution_count": null,
   "id": "2eafa95c",
   "metadata": {},
   "outputs": [],
   "source": []
  },
  {
   "cell_type": "code",
   "execution_count": null,
   "id": "6d2e7f5a",
   "metadata": {},
   "outputs": [],
   "source": []
  },
  {
   "cell_type": "code",
   "execution_count": null,
   "id": "e5756c15",
   "metadata": {},
   "outputs": [],
   "source": []
  }
 ],
 "metadata": {
  "kernelspec": {
   "display_name": "base",
   "language": "python",
   "name": "python3"
  },
  "language_info": {
   "codemirror_mode": {
    "name": "ipython",
    "version": 3
   },
   "file_extension": ".py",
   "mimetype": "text/x-python",
   "name": "python",
   "nbconvert_exporter": "python",
   "pygments_lexer": "ipython3",
   "version": "3.8.5"
  }
 },
 "nbformat": 4,
 "nbformat_minor": 5
}
