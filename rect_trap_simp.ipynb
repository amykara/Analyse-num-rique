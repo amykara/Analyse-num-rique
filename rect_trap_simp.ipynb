{
 "cells": [
  {
   "cell_type": "code",
   "execution_count": 9,
   "id": "dbd76638",
   "metadata": {},
   "outputs": [],
   "source": [
    "import numpy as np\n",
    "import sympy as sp\n",
    "import timeit\n",
    "\n",
    "\n",
    "x = sp.symbols('x') #declaration de la variable symbolique x\n",
    "f_sym = 1 + x**2 #definition de la fonction symbolique\n"
   ]
  },
  {
   "cell_type": "code",
   "execution_count": 10,
   "id": "6f434217",
   "metadata": {},
   "outputs": [],
   "source": [
    "f = sp.lambdify(x, f_sym, 'numpy') #conversion de la fonction symbolique en fonction numerique"
   ]
  },
  {
   "cell_type": "code",
   "execution_count": 11,
   "id": "84439d40",
   "metadata": {},
   "outputs": [],
   "source": [
    "def methode_rectangle(a, b, m):\n",
    "    h = (b -a)/ m\n",
    "    x = np.linspace(a, b-h,m)\n",
    "    return h * np.sum(f(x))"
   ]
  },
  {
   "cell_type": "code",
   "execution_count": 12,
   "id": "32ab4368",
   "metadata": {},
   "outputs": [],
   "source": [
    "def methode_trapeze(a, b, m):\n",
    "    h = (b - a)/ m\n",
    "    x = np.linspace(a, b, m+1)\n",
    "    y= f(x)\n",
    "    return h/2 * (y[0] + 2 * np.sum(y[1:-1]) +y[-1])"
   ]
  },
  {
   "cell_type": "code",
   "execution_count": 13,
   "id": "94f55c23",
   "metadata": {},
   "outputs": [],
   "source": [
    "def methode_simpson(a, b, m):\n",
    "    if m % 2 != 0:\n",
    "        raise ValueError(\"m doit être pair pour la méthode de Simpson.\")\n",
    "    h = (b - a) / m\n",
    "    x = np.linspace(a, b, m + 1)\n",
    "    y = f(x)\n",
    "    somme_impairs = np.sum(y[1:-1:2])\n",
    "    somme_pairs = np.sum(y[2:-1:2])\n",
    "    return (h / 3) * (y[0] + 4 * somme_impairs + 2 * somme_pairs + y[-1])\n"
   ]
  },
  {
   "cell_type": "code",
   "execution_count": 14,
   "id": "8b70dc27",
   "metadata": {},
   "outputs": [],
   "source": [
    "\n",
    "def integrate_spline_quadratique(x_nodes, y_nodes, z0):\n",
    "    \n",
    "    n = len(x_nodes)\n",
    "    z = np.zeros(n)\n",
    "    z[0] = z0\n",
    "\n",
    "    # 1Calcul des pentes z_i\n",
    "    for i in range(1, n):\n",
    "        dx = x_nodes[i] - x_nodes[i-1]\n",
    "        dy = y_nodes[i] - y_nodes[i-1]\n",
    "        z[i] = 2 * (dy/dx) - z[i-1]\n",
    "\n",
    "    # 2Intégration analytique sur chaque morceau\n",
    "    I_total = 0.0\n",
    "    for i in range(n - 1):\n",
    "        dx = x_nodes[i+1] - x_nodes[i]\n",
    "        a = 0.5 * (z[i+1] - z[i]) / dx\n",
    "        I_i = a*(dx**3)/3 + z[i]*(dx**2)/2 + y_nodes[i]*dx\n",
    "        I_total += I_i\n",
    "\n",
    "    return I_total\n"
   ]
  },
  {
   "cell_type": "code",
   "execution_count": 15,
   "id": "3cd53f0b",
   "metadata": {},
   "outputs": [],
   "source": [
    "def integrate_lagrange(x_nodes, y_nodes, a=None, b=None):\n",
    "   \n",
    "    x_nodes = np.asarray(x_nodes)\n",
    "    y_nodes = np.asarray(y_nodes)\n",
    "    n = len(x_nodes)\n",
    "    if a is None: a = x_nodes[0]\n",
    "    if b is None: b = x_nodes[-1]\n",
    "\n",
    "    P_total = np.poly1d([0.0]) #polynôme nul\n",
    "    for i in range(n):\n",
    "        Li = np.poly1d([1.0])#polynôme unité    \n",
    "        for j in range(n):\n",
    "            if i != j:\n",
    "                Li *= np.poly1d([1.0, -x_nodes[j]]) / (x_nodes[i] - x_nodes[j]) #\n",
    "        P_total += y_nodes[i] * Li\n",
    "\n",
    "    P_int = np.polyint(P_total) #polynôme intégrale de P_total\n",
    "    return float(np.polyval(P_int, b) - np.polyval(P_int, a)) #intégrale définie de a à b\n"
   ]
  },
  {
   "cell_type": "code",
   "execution_count": 16,
   "id": "24113acc",
   "metadata": {},
   "outputs": [
    {
     "name": "stdout",
     "output_type": "stream",
     "text": [
      "Intégrale exacte = 4.666666666667\n",
      "\n"
     ]
    },
    {
     "name": "stdout",
     "output_type": "stream",
     "text": [
      "Méthode                                 Valeur     Temps (s)\n",
      "--------------------------------------------------------------------------------\n",
      "Simpson                         4.666666666667     -0.063447\n",
      "Rectangle                       3.750000000000     -0.063330\n",
      "Trapèze                         4.750000000000     -0.040325\n",
      "Spline quadratique              4.666666666667     -0.015823\n",
      "Lagrange                        4.666666666667     -0.002118\n"
     ]
    }
   ],
   "source": [
    "\n",
    "\n",
    "# Intervalle et subdivisions\n",
    "a, b = 0, 2\n",
    "m = 4\n",
    "x_nodes = np.linspace(a, b, m+1)\n",
    "y_nodes = np.array([float(f_sym.subs(x, xi)) for xi in x_nodes])\n",
    "z0 = float(sp.diff(f_sym, x).subs(x, x_nodes[0]))\n",
    "\n",
    "I_exact = float(sp.integrate(f_sym, (x, a, b))) #intégrale exacte\n",
    "print(f\"Intégrale exacte = {I_exact:.12f}\\n\")\n",
    "\n",
    "# -----------------------------\n",
    "# Liste des méthodes à tester\n",
    "# -----------------------------\n",
    "# Chaque entrée = (nom_méthode, fonction, arguments)\n",
    "methodes = [\n",
    "    (\"Rectangle\", methode_rectangle, (a, b, m)),\n",
    "    (\"Trapèze\", methode_trapeze, (a, b, m)),\n",
    "    (\"Simpson\", methode_simpson, (a, b, m)),\n",
    "    (\"Spline quadratique\", integrate_spline_quadratique, (x_nodes, y_nodes, z0)),\n",
    "    (\"Lagrange\", integrate_lagrange, (x_nodes, y_nodes, x_nodes[0], x_nodes[-1]))\n",
    "]\n",
    "\n",
    "# -----------------------------\n",
    "# 5Calcul et mesure des temps\n",
    "# -----------------------------\n",
    "resultats = []\n",
    "for nom, fonction, args in methodes:\n",
    "    start = timeit.timeit()\n",
    "    valeur = fonction(*args)\n",
    "    end = timeit.timeit()\n",
    "    temps = end - start\n",
    "    resultats.append((nom, valeur, temps))\n",
    "\n",
    "# -----------------------------\n",
    "# 6Tri par temps croissant\n",
    "# -----------------------------\n",
    "resultats.sort(key=lambda x: x[2])  # tri selon le temps d'exécution\n",
    "\n",
    "# -----------------------------\n",
    "# 7Affichage des résultats\n",
    "# -----------------------------\n",
    "print(f\"{'Méthode':25s} {'Valeur':>20s}  {'Temps (s)':>12s}\")\n",
    "print(\"-\"*80)\n",
    "for nom, valeur, temps in resultats:\n",
    "    erreur = abs(valeur - I_exact)\n",
    "    print(f\"{nom:25s} {valeur:20.12f}  {temps:12.6f}\")"
   ]
  }
 ],
 "metadata": {
  "kernelspec": {
   "display_name": "base",
   "language": "python",
   "name": "python3"
  },
  "language_info": {
   "codemirror_mode": {
    "name": "ipython",
    "version": 3
   },
   "file_extension": ".py",
   "mimetype": "text/x-python",
   "name": "python",
   "nbconvert_exporter": "python",
   "pygments_lexer": "ipython3",
   "version": "3.8.5"
  }
 },
 "nbformat": 4,
 "nbformat_minor": 5
}
